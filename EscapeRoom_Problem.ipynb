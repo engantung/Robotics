{
  "nbformat": 4,
  "nbformat_minor": 0,
  "metadata": {
    "colab": {
      "name": "EscapeRoom_Problem.ipynb",
      "provenance": [],
      "include_colab_link": true
    },
    "kernelspec": {
      "name": "python3",
      "display_name": "Python 3"
    }
  },
  "cells": [
    {
      "cell_type": "markdown",
      "metadata": {
        "id": "view-in-github",
        "colab_type": "text"
      },
      "source": [
        "<a href=\"https://colab.research.google.com/github/engantung/Robotics/blob/main/EscapeRoom_Problem.ipynb\" target=\"_parent\"><img src=\"https://colab.research.google.com/assets/colab-badge.svg\" alt=\"Open In Colab\"/></a>"
      ]
    },
    {
      "cell_type": "code",
      "metadata": {
        "id": "kIGOacuYgE5H"
      },
      "source": [
        "import math\r\n",
        "from collections import defaultdict\r\n",
        "from sys import setrecursionlimit, getrecursionlimit"
      ],
      "execution_count": null,
      "outputs": []
    },
    {
      "cell_type": "code",
      "metadata": {
        "id": "xb0_3Vzds80B"
      },
      "source": [
        "steps = defaultdict(list)\r\n",
        "position = []"
      ],
      "execution_count": null,
      "outputs": []
    },
    {
      "cell_type": "code",
      "metadata": {
        "id": "1RX9kb1ftCGi"
      },
      "source": [
        "def nextValue(currValue, row, col):\r\n",
        "  i = 1\r\n",
        "  while i*i <= currValue:\r\n",
        "    if currValue % i == 0 and i <= max(row, col) and currValue // i <= max(row,col):\r\n",
        "      steps[currValue].append(i)\r\n",
        "    i+=1\r\n",
        "  return currValue"
      ],
      "execution_count": null,
      "outputs": []
    },
    {
      "cell_type": "code",
      "metadata": {
        "id": "8x5ow0APtee5"
      },
      "source": [
        "def DepthFirstSearch(currI, currJ, nRow, nCol):\r\n",
        "  if currI == nRow - 1 and currJ == nCol - 1:\r\n",
        "    return True\r\n",
        "  if currI >= nRow or currJ >= nCol or position[currI][currJ] in steps:\r\n",
        "    return False\r\n",
        "  nextDestination = nextValue(position[currI][currJ], nRow, nCol)\r\n",
        "  for newI in steps[nextDestination]:\r\n",
        "    newJ = nextDestination // newI\r\n",
        "    if DepthFirstSearch(newI-1, newJ-1, nRow, nCol) or DepthFirstSearch(newJ-1, newI-1, nRow, nCol):\r\n",
        "      return True\r\n",
        "  return False"
      ],
      "execution_count": null,
      "outputs": []
    },
    {
      "cell_type": "code",
      "metadata": {
        "colab": {
          "base_uri": "https://localhost:8080/"
        },
        "id": "wbtIW98JuepZ",
        "outputId": "d0980feb-bf8b-4624-a5ef-4eb2437913ce"
      },
      "source": [
        "if __name__ == '__main__':\r\n",
        "  setrecursionlimit(int(1e6 + 10))\r\n",
        "\r\n",
        "  nDimension = lambda : int(input())\r\n",
        "  listNumber = lambda : list(map(int, input().split()))\r\n",
        "\r\n",
        "  nRow, nColumn = nDimension(), nDimension()\r\n",
        "\r\n",
        "  for i in range(nRow):\r\n",
        "    position.append(listNumber())\r\n",
        "\r\n",
        "  print('yes' if DepthFirstSearch(0,0, nRow, nColumn) else 'no')"
      ],
      "execution_count": null,
      "outputs": [
        {
          "output_type": "stream",
          "text": [
            "3\n",
            "4\n",
            "3 10 8 14\n",
            "1 11 12 12\n",
            "6 2 3 9\n",
            "yes\n"
          ],
          "name": "stdout"
        }
      ]
    }
  ]
}